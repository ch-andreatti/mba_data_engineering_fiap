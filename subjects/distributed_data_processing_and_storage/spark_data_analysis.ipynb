{
 "cells": [
  {
   "cell_type": "markdown",
   "id": "e576da1a-3353-4ef2-af68-354441671c60",
   "metadata": {},
   "source": [
    "# Libraries"
   ]
  },
  {
   "cell_type": "code",
   "execution_count": 60,
   "id": "f876bf9d-9727-4f64-a75c-ac2202c39c14",
   "metadata": {},
   "outputs": [],
   "source": [
    "from pyspark.sql import SparkSession\n",
    "from pyspark.sql.functions import when, lit, desc"
   ]
  },
  {
   "cell_type": "markdown",
   "id": "119e86f4-36ae-4e5f-acb6-b1374fd683a4",
   "metadata": {},
   "source": [
    "# Start Spark session"
   ]
  },
  {
   "cell_type": "code",
   "execution_count": 61,
   "id": "c2a8a5e8-267e-4f51-a178-c9ecf1dee8d5",
   "metadata": {},
   "outputs": [],
   "source": [
    "spark = SparkSession.builder \\\n",
    "    .appName(\"spark_data_analysis\") \\\n",
    "    .getOrCreate()"
   ]
  },
  {
   "cell_type": "code",
   "execution_count": 62,
   "id": "563c9329-c8c3-48d1-90da-a90d13299a49",
   "metadata": {},
   "outputs": [
    {
     "data": {
      "text/html": [
       "\n",
       "            <div>\n",
       "                <p><b>SparkSession - in-memory</b></p>\n",
       "                \n",
       "        <div>\n",
       "            <p><b>SparkContext</b></p>\n",
       "\n",
       "            <p><a href=\"http://192.168.0.78:4040\">Spark UI</a></p>\n",
       "\n",
       "            <dl>\n",
       "              <dt>Version</dt>\n",
       "                <dd><code>v3.5.1</code></dd>\n",
       "              <dt>Master</dt>\n",
       "                <dd><code>local[*]</code></dd>\n",
       "              <dt>AppName</dt>\n",
       "                <dd><code>spark_data_analysis</code></dd>\n",
       "            </dl>\n",
       "        </div>\n",
       "        \n",
       "            </div>\n",
       "        "
      ],
      "text/plain": [
       "<pyspark.sql.session.SparkSession at 0x737799cf1cc0>"
      ]
     },
     "execution_count": 62,
     "metadata": {},
     "output_type": "execute_result"
    }
   ],
   "source": [
    "spark"
   ]
  },
  {
   "cell_type": "markdown",
   "id": "8827bcd2-c3d6-421c-a2e3-e117e74abb2b",
   "metadata": {},
   "source": [
    "# Data load"
   ]
  },
  {
   "cell_type": "code",
   "execution_count": 63,
   "id": "32be871c-40ad-485d-9e3b-e6eb44d34ce5",
   "metadata": {},
   "outputs": [],
   "source": [
    "df = spark.read.csv(\n",
    "    \"./data.csv\", \n",
    "    header=True,\n",
    "    inferSchema=True\n",
    ")"
   ]
  },
  {
   "cell_type": "code",
   "execution_count": 64,
   "id": "186a09fe-fccf-4d87-8fc3-a1795613856d",
   "metadata": {},
   "outputs": [
    {
     "name": "stdout",
     "output_type": "stream",
     "text": [
      "+----------+---------+---------+----------+----------+----------+-------+--------+-------+\n",
      "|      date|home_team|away_team|home_score|away_score|tournament|   city| country|neutral|\n",
      "+----------+---------+---------+----------+----------+----------+-------+--------+-------+\n",
      "|1872-11-30| Scotland|  England|         0|         0|  Friendly|Glasgow|Scotland|  false|\n",
      "|1873-03-08|  England| Scotland|         4|         2|  Friendly| London| England|  false|\n",
      "|1874-03-07| Scotland|  England|         2|         1|  Friendly|Glasgow|Scotland|  false|\n",
      "|1875-03-06|  England| Scotland|         2|         2|  Friendly| London| England|  false|\n",
      "|1876-03-04| Scotland|  England|         3|         0|  Friendly|Glasgow|Scotland|  false|\n",
      "+----------+---------+---------+----------+----------+----------+-------+--------+-------+\n",
      "only showing top 5 rows\n",
      "\n"
     ]
    }
   ],
   "source": [
    "df.show(5)"
   ]
  },
  {
   "cell_type": "code",
   "execution_count": 65,
   "id": "fddeedd9-2d81-4a4e-bab8-f47d860b12f0",
   "metadata": {},
   "outputs": [
    {
     "name": "stdout",
     "output_type": "stream",
     "text": [
      "root\n",
      " |-- date: date (nullable = true)\n",
      " |-- home_team: string (nullable = true)\n",
      " |-- away_team: string (nullable = true)\n",
      " |-- home_score: integer (nullable = true)\n",
      " |-- away_score: integer (nullable = true)\n",
      " |-- tournament: string (nullable = true)\n",
      " |-- city: string (nullable = true)\n",
      " |-- country: string (nullable = true)\n",
      " |-- neutral: boolean (nullable = true)\n",
      "\n"
     ]
    }
   ],
   "source": [
    "df.printSchema()"
   ]
  },
  {
   "cell_type": "markdown",
   "id": "40c728bd-7ad0-4fe3-b1ab-13427cec8361",
   "metadata": {},
   "source": [
    "# Helper column"
   ]
  },
  {
   "cell_type": "markdown",
   "id": "3465e087-3e41-4db9-a19f-7a2a6ae7e159",
   "metadata": {},
   "source": [
    "## match_resul"
   ]
  },
  {
   "cell_type": "code",
   "execution_count": 66,
   "id": "b9501fa7-b4d1-4375-8a4a-0d4c320c5fc5",
   "metadata": {},
   "outputs": [],
   "source": [
    "# The match_resul column will be created to indicate the result of the match, the results of this column will be:\n",
    "# - home_team : When the value of home_score column is > than away_score column\n",
    "# - away_team : When the value of away_score column is > than home_score column\n",
    "# - draw : When the value of home_score column is == of away_score column\n",
    "\n",
    "df = df.withColumn(\"match_resul\", \\\n",
    "    when(df.home_score > df.away_score, lit(\"home_team\")) \\\n",
    "    .when(df.away_score > df.home_score, lit(\"away_team\")) \\\n",
    "    .otherwise(lit(\"draw\")) \\\n",
    "    )\n",
    "\n",
    "# This column will be utilized to asnwer the qustions 3, 4, 5"
   ]
  },
  {
   "cell_type": "markdown",
   "id": "efea8cbe-4ddc-44ee-b4ee-6693e4b63937",
   "metadata": {},
   "source": [
    "# Data analysis"
   ]
  },
  {
   "cell_type": "markdown",
   "id": "de24d62c-3649-4fa1-a895-24c84192252b",
   "metadata": {},
   "source": [
    "## 1 - How many records are there in the database?"
   ]
  },
  {
   "cell_type": "code",
   "execution_count": 67,
   "id": "52da9e3e-dce0-4c2b-8f9c-003917b07fcc",
   "metadata": {},
   "outputs": [
    {
     "data": {
      "text/plain": [
       "40839"
      ]
     },
     "execution_count": 67,
     "metadata": {},
     "output_type": "execute_result"
    }
   ],
   "source": [
    "count_of_records = df.count()\n",
    "count_of_records"
   ]
  },
  {
   "cell_type": "markdown",
   "id": "0e414058-9cfa-495c-ad61-88c890987d58",
   "metadata": {},
   "source": [
    "## 2 - How many distinct home team are there at base?"
   ]
  },
  {
   "cell_type": "code",
   "execution_count": 68,
   "id": "5f78bc61-5905-4073-9eaa-1401acec63be",
   "metadata": {},
   "outputs": [
    {
     "data": {
      "text/plain": [
       "309"
      ]
     },
     "execution_count": 68,
     "metadata": {},
     "output_type": "execute_result"
    }
   ],
   "source": [
    "distinct_home_team = df.select(\"home_team\").distinct().count()\n",
    "distinct_home_team"
   ]
  },
  {
   "cell_type": "markdown",
   "id": "b83b139f-1470-465c-8621-a3c5ce0ebabc",
   "metadata": {},
   "source": [
    "# 3 - How many times have the home team been victorious?"
   ]
  },
  {
   "cell_type": "code",
   "execution_count": 69,
   "id": "96a8fd75-c7be-479b-9a46-c265667636e8",
   "metadata": {},
   "outputs": [
    {
     "data": {
      "text/plain": [
       "19864"
      ]
     },
     "execution_count": 69,
     "metadata": {},
     "output_type": "execute_result"
    }
   ],
   "source": [
    "home_team_win_count = df.filter(\"match_resul = 'home_team'\").count()\n",
    "home_team_win_count"
   ]
  },
  {
   "cell_type": "markdown",
   "id": "45faf288-b6c5-4ca3-bcae-d1235d899375",
   "metadata": {},
   "source": [
    "# 4 - How many times have the away team been victorious?"
   ]
  },
  {
   "cell_type": "code",
   "execution_count": 70,
   "id": "c4e49af3-928f-474f-8e09-19470f335212",
   "metadata": {},
   "outputs": [
    {
     "data": {
      "text/plain": [
       "11544"
      ]
     },
     "execution_count": 70,
     "metadata": {},
     "output_type": "execute_result"
    }
   ],
   "source": [
    "away_team_win_count = df.filter(\"match_resul = 'away_team'\").count()\n",
    "away_team_win_count"
   ]
  },
  {
   "cell_type": "markdown",
   "id": "842a82ec-e9a6-456e-a003-72566ec35876",
   "metadata": {},
   "source": [
    "# 5 - How many matches resulted in a draw?"
   ]
  },
  {
   "cell_type": "code",
   "execution_count": 71,
   "id": "7527144c-3689-44c1-b028-c6e41371ddc4",
   "metadata": {},
   "outputs": [
    {
     "data": {
      "text/plain": [
       "9431"
      ]
     },
     "execution_count": 71,
     "metadata": {},
     "output_type": "execute_result"
    }
   ],
   "source": [
    "draw_count = df.filter(\"match_resul = 'draw'\").count()\n",
    "draw_count"
   ]
  },
  {
   "cell_type": "markdown",
   "id": "cde9a655-549e-4d1f-b5e0-aa7930f257ca",
   "metadata": {},
   "source": [
    "# 6 - How many matches were played in each country?"
   ]
  },
  {
   "cell_type": "code",
   "execution_count": 72,
   "id": "2730d712-29c1-496a-9ae6-fd39ab2fef65",
   "metadata": {},
   "outputs": [
    {
     "name": "stdout",
     "output_type": "stream",
     "text": [
      "+--------------------+-----+\n",
      "|             country|count|\n",
      "+--------------------+-----+\n",
      "|       United States| 1144|\n",
      "|              France|  801|\n",
      "|             England|  687|\n",
      "|            Malaysia|  644|\n",
      "|              Sweden|  637|\n",
      "|             Germany|  581|\n",
      "|              Brazil|  529|\n",
      "|               Spain|  517|\n",
      "|            Thailand|  483|\n",
      "|               Italy|  480|\n",
      "|         Switzerland|  477|\n",
      "|             Austria|  475|\n",
      "|United Arab Emirates|  472|\n",
      "|        South Africa|  470|\n",
      "|               Qatar|  467|\n",
      "|         South Korea|  453|\n",
      "|           Argentina|  449|\n",
      "|             Hungary|  431|\n",
      "|               Chile|  405|\n",
      "|             Belgium|  396|\n",
      "+--------------------+-----+\n",
      "only showing top 20 rows\n",
      "\n"
     ]
    }
   ],
   "source": [
    "matches_by_country = df.groupBy(\"country\").count().sort(desc(\"count\"))\n",
    "matches_by_country.show()"
   ]
  },
  {
   "cell_type": "code",
   "execution_count": 78,
   "id": "5475dbc2-0081-4a12-b370-fb33cb7cae5f",
   "metadata": {},
   "outputs": [],
   "source": [
    "# matches_by_country.write.csv(\"matches_by_country\", header=True)"
   ]
  },
  {
   "cell_type": "markdown",
   "id": "8e331bef-2662-4098-beda-862849353686",
   "metadata": {},
   "source": [
    "# 7 - Which country had the most matches?"
   ]
  },
  {
   "cell_type": "code",
   "execution_count": 74,
   "id": "dac52065-4e74-4b40-aa42-45db335f581f",
   "metadata": {},
   "outputs": [
    {
     "name": "stdout",
     "output_type": "stream",
     "text": [
      "+-------------+-----+\n",
      "|      country|count|\n",
      "+-------------+-----+\n",
      "|United States| 1144|\n",
      "+-------------+-----+\n",
      "\n"
     ]
    }
   ],
   "source": [
    "country_with_the_most_matches = matches_by_country.limit(1)\n",
    "country_with_the_most_matches.show()"
   ]
  },
  {
   "cell_type": "code",
   "execution_count": 75,
   "id": "1d4f1537-8f91-4b54-b05f-93754c6e3220",
   "metadata": {},
   "outputs": [
    {
     "data": {
      "text/plain": [
       "'United States'"
      ]
     },
     "execution_count": 75,
     "metadata": {},
     "output_type": "execute_result"
    }
   ],
   "source": [
    "name_of_the_country_with_the_most_matches = country_with_the_most_matches.collect()[0][\"country\"]\n",
    "name_of_the_country_with_the_most_matches"
   ]
  },
  {
   "cell_type": "markdown",
   "id": "04206d8b-acb5-4b47-801f-a25832a91f6d",
   "metadata": {},
   "source": [
    "# 8 - Which match had the most goals?"
   ]
  },
  {
   "cell_type": "markdown",
   "id": "f42251f0-caaa-4d0a-8172-99baf757fb0a",
   "metadata": {},
   "source": [
    "# 9 - Which match had the biggest goal difference?"
   ]
  },
  {
   "cell_type": "markdown",
   "id": "9e34a619-6697-4116-9904-cf52bbcc6e25",
   "metadata": {},
   "source": [
    "# 10 - How many matches have taken place in Brazil?"
   ]
  },
  {
   "cell_type": "code",
   "execution_count": null,
   "id": "5fdf6dc0-e48f-4ed1-9727-e7992f226edf",
   "metadata": {},
   "outputs": [],
   "source": []
  }
 ],
 "metadata": {
  "kernelspec": {
   "display_name": "Python 3 (ipykernel)",
   "language": "python",
   "name": "python3"
  },
  "language_info": {
   "codemirror_mode": {
    "name": "ipython",
    "version": 3
   },
   "file_extension": ".py",
   "mimetype": "text/x-python",
   "name": "python",
   "nbconvert_exporter": "python",
   "pygments_lexer": "ipython3",
   "version": "3.10.12"
  }
 },
 "nbformat": 4,
 "nbformat_minor": 5
}
